{
 "cells": [
  {
   "cell_type": "code",
   "execution_count": 1,
   "metadata": {},
   "outputs": [],
   "source": [
    "import networkx as nx\n",
    "import matplotlib.pyplot as plt\n",
    "import numpy as np \n",
    "import pickle\n",
    "from igraph import Graph, plot\n",
    "from tqdm import tqdm\n",
    "from sklearn.metrics import adjusted_rand_score\n",
    "from scipy.sparse.linalg import eigsh"
   ]
  },
  {
   "cell_type": "code",
   "execution_count": 2,
   "metadata": {},
   "outputs": [],
   "source": [
    "#importer les graphes générés \n",
    "with open('graph_list.pkl', 'rb') as fichier:\n",
    "    graphs = pickle.load(fichier)"
   ]
  },
  {
   "cell_type": "code",
   "execution_count": 3,
   "metadata": {},
   "outputs": [],
   "source": [
    "with open('real_partition_list.pkl', 'rb') as f2:\n",
    "    real_partitions = pickle.load(f2)"
   ]
  },
  {
   "cell_type": "code",
   "execution_count": 52,
   "metadata": {},
   "outputs": [],
   "source": [
    "fractions=np.linspace(0.0001,0.6,50)\n",
    "nb_iter=100"
   ]
  },
  {
   "cell_type": "code",
   "execution_count": 5,
   "metadata": {},
   "outputs": [],
   "source": [
    "def dict_to_list(d):\n",
    "    L=[0]*len(d)\n",
    "    for k in d:\n",
    "        L[k]=d[k]\n",
    "    return L"
   ]
  },
  {
   "cell_type": "code",
   "execution_count": 6,
   "metadata": {},
   "outputs": [],
   "source": [
    "def ari_score(communities, real_partition):\n",
    "    predicted_partition=[0 for i in range(len(real_partition))]\n",
    "    for k in range(len(communities)):\n",
    "        for i in communities[k]:\n",
    "            predicted_partition[i]=k\n",
    "    score = adjusted_rand_score(real_partition, predicted_partition)\n",
    "    return score"
   ]
  },
  {
   "cell_type": "markdown",
   "metadata": {},
   "source": [
    "## Louvain\n"
   ]
  },
  {
   "cell_type": "code",
   "execution_count": 7,
   "metadata": {},
   "outputs": [],
   "source": [
    "from community import community_louvain"
   ]
  },
  {
   "cell_type": "code",
   "execution_count": 8,
   "metadata": {},
   "outputs": [
    {
     "name": "stderr",
     "output_type": "stream",
     "text": [
      "100%|██████████| 30/30 [01:11<00:00,  2.38s/it]\n"
     ]
    }
   ],
   "source": [
    "ARI_louvain = []\n",
    "for i in tqdm(range(len(fractions))):\n",
    "    L=np.zeros(nb_iter)\n",
    "    for j in range(nb_iter):\n",
    "        G=nx.from_numpy_array(graphs[i][j])\n",
    "        partition =dict_to_list(community_louvain.best_partition(G))\n",
    "        L[j]=adjusted_rand_score(partition,real_partitions[i][j])\n",
    "    ARI_louvain.append(L.mean())\n",
    "    "
   ]
  },
  {
   "cell_type": "code",
   "execution_count": 9,
   "metadata": {},
   "outputs": [],
   "source": [
    "with open('ARI_louvain.pkl', 'wb') as fichier:\n",
    "    pickle.dump(ARI_louvain, fichier)"
   ]
  },
  {
   "cell_type": "markdown",
   "metadata": {},
   "source": [
    "## Walktrap"
   ]
  },
  {
   "cell_type": "code",
   "execution_count": 12,
   "metadata": {},
   "outputs": [
    {
     "name": "stderr",
     "output_type": "stream",
     "text": [
      "100%|██████████| 30/30 [03:07<00:00,  6.24s/it]\n"
     ]
    }
   ],
   "source": [
    "ARI_walktrap = []\n",
    "for i in tqdm(range(len(fractions))):\n",
    "    L=np.zeros(nb_iter)\n",
    "    for j in range(nb_iter):\n",
    "        G=Graph.Adjacency(graphs[i][j],mode='undirected')\n",
    "        community = G.community_walktrap(weights=None,steps = 7)\n",
    "        clusters = community.as_clustering()\n",
    "        partition=clusters.membership\n",
    "        L[j]=adjusted_rand_score(partition,real_partitions[i][j])\n",
    "    ARI_walktrap.append(L.mean())"
   ]
  },
  {
   "cell_type": "code",
   "execution_count": 13,
   "metadata": {},
   "outputs": [],
   "source": [
    "with open('ARI_walktrap.pkl', 'wb') as fichier:\n",
    "    pickle.dump(ARI_walktrap, fichier)"
   ]
  },
  {
   "cell_type": "markdown",
   "metadata": {},
   "source": [
    "## Factorisation matricielle"
   ]
  },
  {
   "cell_type": "code",
   "execution_count": 15,
   "metadata": {},
   "outputs": [],
   "source": [
    "def fit_model(A,K=65,total_steps=50, lambda_=0, fix_X=None):\n",
    "    n = len(A)\n",
    "    if fix_X is None:\n",
    "        X=np.random.rand(n, K)\n",
    "    else:\n",
    "        X=fix_X\n",
    "    if lambda_>0:\n",
    "        n=A.shape[0]\n",
    "        D=np.zeros((n,n), dtype='float')\n",
    "        for i in range(n):\n",
    "            for j in range(n):\n",
    "                D[i,i]=D[i,i]+A[i,j]\n",
    "    for step in range(total_steps):\n",
    "        U_=np.dot(A,X)\n",
    "        M=np.dot(X.T,X)\n",
    "        M=np.dot(X,M)\n",
    "        M[M==0]=1e-15\n",
    "        #regularization\n",
    "        if lambda_>0:\n",
    "            U_=(1+lambda_)*U_\n",
    "            C=np.dot(D,X)\n",
    "            C=lambda_*C\n",
    "            M=M+C\n",
    "        for i in range(n):\n",
    "            for k in range(K):\n",
    "                # print(f'i:{i}, k:{k}, M[i,k]: {M[i,k]}')\n",
    "                X[i,k]=X[i,k]*(0.5+0.5*U_[i,k]/M[i,k])\n",
    "        # if step%10==0:\n",
    "        #     print(f'step: {step}, RMSE: {np.sqrt(np.mean((A-np.dot(X,X.T))**2))}')\n",
    "    return X"
   ]
  },
  {
   "cell_type": "code",
   "execution_count": 16,
   "metadata": {},
   "outputs": [],
   "source": [
    "def community_detection(X):\n",
    "    communities={}\n",
    "    n,col=X.shape\n",
    "    for k in range(col):\n",
    "        communities[k]=[]\n",
    "    for i in range(n):\n",
    "        communities[np.argmax(X[i,:])].append(i)\n",
    "    permutation_list=[]\n",
    "    for value in communities.values():\n",
    "        permutation_list +=value\n",
    "    permutation_=np.array(permutation_list)\n",
    "    return communities, permutation_"
   ]
  },
  {
   "cell_type": "code",
   "execution_count": 17,
   "metadata": {},
   "outputs": [
    {
     "name": "stderr",
     "output_type": "stream",
     "text": [
      "100%|██████████| 30/30 [00:28<00:00,  1.05it/s]\n"
     ]
    }
   ],
   "source": [
    "ARI_fact_non_reg = []\n",
    "for i in tqdm(range(len(fractions))):\n",
    "    L=np.zeros(nb_iter)\n",
    "    for j in range(nb_iter):\n",
    "        G=Graph.Adjacency(graphs[i][j],mode='undirected')\n",
    "        X = fit_model(graphs[i][j],K=5,total_steps=50, lambda_=0)\n",
    "        communities, permutation_ = community_detection(X)\n",
    "        L[j]=ari_score(communities, real_partitions[i][j])\n",
    "    ARI_fact_non_reg.append(L.mean())"
   ]
  },
  {
   "cell_type": "code",
   "execution_count": 18,
   "metadata": {},
   "outputs": [],
   "source": [
    "with open('ARI_fact_non_reg.pkl', 'wb') as fichier:\n",
    "    pickle.dump(ARI_fact_non_reg, fichier)"
   ]
  },
  {
   "cell_type": "code",
   "execution_count": 45,
   "metadata": {},
   "outputs": [
    {
     "name": "stderr",
     "output_type": "stream",
     "text": [
      "100%|██████████| 30/30 [01:24<00:00,  2.80s/it]\n"
     ]
    }
   ],
   "source": [
    "ARI_fact_reg = []\n",
    "for i in tqdm(range(len(fractions))):\n",
    "    L=np.zeros(nb_iter)\n",
    "    for j in range(nb_iter):\n",
    "        G=Graph.Adjacency(graphs[i][j],mode='undirected')\n",
    "        X = fit_model(graphs[i][j],K=5,total_steps=50, lambda_=0.1)\n",
    "        communities, permutation_ = community_detection(X)\n",
    "        L[j]=ari_score(communities, real_partitions[i][j])\n",
    "    ARI_fact_reg.append(L.mean())"
   ]
  },
  {
   "cell_type": "code",
   "execution_count": 46,
   "metadata": {},
   "outputs": [],
   "source": [
    "with open('ARI_fact_reg.pkl', 'wb') as fichier:\n",
    "    pickle.dump(ARI_fact_reg, fichier)"
   ]
  },
  {
   "cell_type": "markdown",
   "metadata": {},
   "source": [
    "Récupérer et tracer"
   ]
  },
  {
   "cell_type": "code",
   "execution_count": 50,
   "metadata": {},
   "outputs": [],
   "source": [
    "with open('ARI_louvain.pkl', 'rb') as fichier:\n",
    "    ARI_louvain = pickle.load(fichier)\n",
    "    \n",
    "with open('ARI_walktrap.pkl', 'rb') as fichier:\n",
    "    ARI_walktrap = pickle.load(fichier)\n",
    "\n",
    "with open('ARI_fact_non_reg.pkl', 'rb') as fichier:\n",
    "    ARI_fact_non_reg = pickle.load(fichier)\n",
    "\n",
    "# with open('ARI_fact_reg.pkl', 'rb') as fichier:\n",
    "#     ARI_fact_reg = pickle.load(fichier)\n"
   ]
  },
  {
   "cell_type": "code",
   "execution_count": 54,
   "metadata": {},
   "outputs": [
    {
     "data": {
      "image/png": "[encoded data removed]",
      "text/plain": [
       "<Figure size 640x480 with 1 Axes>"
      ]
     },
     "metadata": {},
     "output_type": "display_data"
    }
   ],
   "source": [
    "plt.plot(fractions , ARI_louvain , label='Louvain')\n",
    "plt.plot(fractions , ARI_fact_non_reg , label=r'Factorisation matricielle $\\lambda=0$')\n",
    "#plt.plot(fractions , ARI_fact_reg , label=r'Factorisation matricielle $\\lambda=1$')\n",
    "plt.plot(fractions , ARI_walktrap , label='Walktrap t=7')\n",
    "plt.grid(True)\n",
    "plt.ylabel('ARI score')\n",
    "plt.xlabel(r'$\\frac{q}{p}$')\n",
    "plt.legend(loc='best')\n",
    "plt.show()"
   ]
  }
 ],
 "metadata": {
  "kernelspec": {
   "display_name": "Python 3",
   "language": "python",
   "name": "python3"
  },
  "language_info": {
   "codemirror_mode": {
    "name": "ipython",
    "version": 3
   },
   "file_extension": ".py",
   "mimetype": "text/x-python",
   "name": "python",
   "nbconvert_exporter": "python",
   "pygments_lexer": "ipython3",
   "version": "3.10.5"
  }
 },
 "nbformat": 4,
 "nbformat_minor": 2
}
